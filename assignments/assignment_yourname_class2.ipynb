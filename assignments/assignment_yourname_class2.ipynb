{
 "cells": [
  {
   "cell_type": "markdown",
   "metadata": {},
   "source": [
    "# Assignment Instructions\n",
    "\n",
    "For this assignment, you will use the **reg-33-data.csv** dataset.  This file contains a dataset that I generated specifically for this class.  You can find the CSV file on my data site, at this location: [reg-33-data.csv](http://data.heatonresearch.com/data/t81-558/datasets/reg-33-data.csv).\n",
    "\n",
    "For this assignment, load and modify the data set.  You will submit this modified dataset to the **submit** function.  See [Assignment #1](https://github.com/jeffheaton/t81_558_deep_learning/blob/master/assignments/assignment_yourname_class1.ipynb) for details on how to submit an assignment or check that one was submitted.\n",
    "\n",
    "Modify the dataset as follows:\n",
    "\n",
    "* Add a column named *ratio* that is *max* divided by *number*.  Leave *max* and *number* in the dataframe.\n",
    "* Replace the *cat2* column with dummy variables. e.g. 'cat2_CA-0', 'cat2_CA-1',\n",
    "       'cat2_CA-10', 'cat2_CA-11', 'cat2_CA-12', ...\n",
    "* Replace the *item* column with dummy variables, e.g. 'item_IT-0', 'item_IT-1',\n",
    "       'item_IT-10', 'item_IT-11', 'item_IT-12', ...\n",
    "* For field *length* replace missing values with the median of *length*.\n",
    "* For field *height* replace missing with median and convert to zscore.\n",
    "* Remove all other columns.\n",
    "* Your submitted dataframe will have these columns: 'height', 'max', 'number', 'length', 'ratio', 'cat2_CA-0', 'cat2_CA-1',\n",
    "       'cat2_CA-10', 'cat2_CA-11', 'cat2_CA-12', 'cat2_CA-13', 'cat2_CA-14',\n",
    "       'cat2_CA-15', 'cat2_CA-16', 'cat2_CA-17', 'cat2_CA-18', 'cat2_CA-19',\n",
    "       'cat2_CA-1A', 'cat2_CA-1B', 'cat2_CA-1C', 'cat2_CA-1D', 'cat2_CA-1E',\n",
    "       'cat2_CA-1F', 'cat2_CA-2', 'cat2_CA-20', 'cat2_CA-21', 'cat2_CA-22',\n",
    "       'cat2_CA-23', 'cat2_CA-24', 'cat2_CA-25', 'cat2_CA-26', 'cat2_CA-27',\n",
    "       'cat2_CA-3', 'cat2_CA-4', 'cat2_CA-5', 'cat2_CA-6', 'cat2_CA-7',\n",
    "       'cat2_CA-8', 'cat2_CA-9', 'cat2_CA-A', 'cat2_CA-B', 'cat2_CA-C',\n",
    "       'cat2_CA-D', 'cat2_CA-E', 'cat2_CA-F', 'item_IT-0', 'item_IT-1',\n",
    "       'item_IT-10', 'item_IT-11', 'item_IT-12', 'item_IT-13', 'item_IT-14',\n",
    "       'item_IT-15', 'item_IT-16', 'item_IT-17', 'item_IT-18', 'item_IT-19',\n",
    "       'item_IT-1A', 'item_IT-1B', 'item_IT-1C', 'item_IT-1D', 'item_IT-1E',\n",
    "       'item_IT-2', 'item_IT-3', 'item_IT-4', 'item_IT-5', 'item_IT-6',\n",
    "       'item_IT-7', 'item_IT-8', 'item_IT-9', 'item_IT-A', 'item_IT-B',\n",
    "       'item_IT-C', 'item_IT-D', 'item_IT-E', 'item_IT-F'."
   ]
  },
  {
   "cell_type": "code",
   "execution_count": 2,
   "metadata": {},
   "outputs": [],
   "source": [
    "import os\n",
    "import pandas as pd\n",
    "from scipy.stats import zscore\n",
    " \n",
    "# Begin assignment\n",
    "df = pd.read_csv(\"../data/reg-33-data.csv\")\n",
    "\n",
    "df.drop('id',1,inplace=True)"
   ]
  },
  {
   "cell_type": "code",
   "execution_count": 3,
   "metadata": {},
   "outputs": [
    {
     "data": {
      "text/html": [
       "<div>\n",
       "<style scoped>\n",
       "    .dataframe tbody tr th:only-of-type {\n",
       "        vertical-align: middle;\n",
       "    }\n",
       "\n",
       "    .dataframe tbody tr th {\n",
       "        vertical-align: top;\n",
       "    }\n",
       "\n",
       "    .dataframe thead th {\n",
       "        text-align: right;\n",
       "    }\n",
       "</style>\n",
       "<table border=\"1\" class=\"dataframe\">\n",
       "  <thead>\n",
       "    <tr style=\"text-align: right;\">\n",
       "      <th></th>\n",
       "      <th>convention</th>\n",
       "      <th>height</th>\n",
       "      <th>max</th>\n",
       "      <th>cat2</th>\n",
       "      <th>number</th>\n",
       "      <th>usage</th>\n",
       "      <th>region</th>\n",
       "      <th>length</th>\n",
       "      <th>code</th>\n",
       "      <th>power</th>\n",
       "      <th>item</th>\n",
       "      <th>weight</th>\n",
       "      <th>country</th>\n",
       "      <th>target</th>\n",
       "    </tr>\n",
       "  </thead>\n",
       "  <tbody>\n",
       "    <tr>\n",
       "      <th>0</th>\n",
       "      <td>CO-1A</td>\n",
       "      <td>4284.51</td>\n",
       "      <td>44907</td>\n",
       "      <td>CA-E</td>\n",
       "      <td>16669</td>\n",
       "      <td>US-7</td>\n",
       "      <td>RE-4</td>\n",
       "      <td>12471.1127</td>\n",
       "      <td>CO-B</td>\n",
       "      <td>27351.36</td>\n",
       "      <td>IT-17</td>\n",
       "      <td>13722</td>\n",
       "      <td>CO-1</td>\n",
       "      <td>44098.106769</td>\n",
       "    </tr>\n",
       "    <tr>\n",
       "      <th>1</th>\n",
       "      <td>CO-C</td>\n",
       "      <td>806.88</td>\n",
       "      <td>48831</td>\n",
       "      <td>CA-A</td>\n",
       "      <td>8652</td>\n",
       "      <td>US-20</td>\n",
       "      <td>RE-15</td>\n",
       "      <td>10035.7085</td>\n",
       "      <td>CO-E</td>\n",
       "      <td>42323.89</td>\n",
       "      <td>IT-1E</td>\n",
       "      <td>33779</td>\n",
       "      <td>CO-0</td>\n",
       "      <td>95567.294044</td>\n",
       "    </tr>\n",
       "    <tr>\n",
       "      <th>2</th>\n",
       "      <td>CO-19</td>\n",
       "      <td>2859.80</td>\n",
       "      <td>40760</td>\n",
       "      <td>CA-16</td>\n",
       "      <td>23103</td>\n",
       "      <td>US-17</td>\n",
       "      <td>RE-1D</td>\n",
       "      <td>14442.6566</td>\n",
       "      <td>CO-5</td>\n",
       "      <td>30660.91</td>\n",
       "      <td>IT-14</td>\n",
       "      <td>26633</td>\n",
       "      <td>CO-23</td>\n",
       "      <td>48583.507153</td>\n",
       "    </tr>\n",
       "    <tr>\n",
       "      <th>3</th>\n",
       "      <td>CO-2B</td>\n",
       "      <td>5823.87</td>\n",
       "      <td>33597</td>\n",
       "      <td>CA-9</td>\n",
       "      <td>17680</td>\n",
       "      <td>US-10</td>\n",
       "      <td>RE-1D</td>\n",
       "      <td>15121.4937</td>\n",
       "      <td>CO-B</td>\n",
       "      <td>59456.24</td>\n",
       "      <td>IT-8</td>\n",
       "      <td>14537</td>\n",
       "      <td>CO-11</td>\n",
       "      <td>130572.202064</td>\n",
       "    </tr>\n",
       "    <tr>\n",
       "      <th>4</th>\n",
       "      <td>CO-5</td>\n",
       "      <td>NaN</td>\n",
       "      <td>29848</td>\n",
       "      <td>CA-9</td>\n",
       "      <td>24136</td>\n",
       "      <td>US-21</td>\n",
       "      <td>RE-4</td>\n",
       "      <td>18093.9147</td>\n",
       "      <td>CO-4</td>\n",
       "      <td>46998.44</td>\n",
       "      <td>IT-5</td>\n",
       "      <td>21135</td>\n",
       "      <td>CO-1E</td>\n",
       "      <td>85768.812850</td>\n",
       "    </tr>\n",
       "  </tbody>\n",
       "</table>\n",
       "</div>"
      ],
      "text/plain": [
       "  convention   height    max   cat2  number  usage region      length  code  \\\n",
       "0      CO-1A  4284.51  44907   CA-E   16669   US-7   RE-4  12471.1127  CO-B   \n",
       "1       CO-C   806.88  48831   CA-A    8652  US-20  RE-15  10035.7085  CO-E   \n",
       "2      CO-19  2859.80  40760  CA-16   23103  US-17  RE-1D  14442.6566  CO-5   \n",
       "3      CO-2B  5823.87  33597   CA-9   17680  US-10  RE-1D  15121.4937  CO-B   \n",
       "4       CO-5      NaN  29848   CA-9   24136  US-21   RE-4  18093.9147  CO-4   \n",
       "\n",
       "      power   item  weight country         target  \n",
       "0  27351.36  IT-17   13722    CO-1   44098.106769  \n",
       "1  42323.89  IT-1E   33779    CO-0   95567.294044  \n",
       "2  30660.91  IT-14   26633   CO-23   48583.507153  \n",
       "3  59456.24   IT-8   14537   CO-11  130572.202064  \n",
       "4  46998.44   IT-5   21135   CO-1E   85768.812850  "
      ]
     },
     "execution_count": 3,
     "metadata": {},
     "output_type": "execute_result"
    }
   ],
   "source": [
    "df.head()"
   ]
  },
  {
   "cell_type": "markdown",
   "metadata": {},
   "source": [
    "#### Add a column named *ratio* that is *max* divided by *number*.  Leave *max* and *number* in the dataframe."
   ]
  },
  {
   "cell_type": "code",
   "execution_count": 4,
   "metadata": {},
   "outputs": [],
   "source": [
    "df['ratio'] = df['max'] / df['number']"
   ]
  },
  {
   "cell_type": "markdown",
   "metadata": {},
   "source": [
    "#### Replace the *cat2* column with dummy variables. e.g. 'cat2_CA-0', 'cat2_CA-1', 'cat2_CA-10', 'cat2_CA-11', 'cat2_CA-12', ..."
   ]
  },
  {
   "cell_type": "code",
   "execution_count": 5,
   "metadata": {},
   "outputs": [],
   "source": [
    "df['cat2'] = df['cat2'].astype('category')\n",
    "\n",
    "df['cat2'] = df['cat2'].cat.codes\n",
    "\n",
    "df['cat2'] = df['cat2'].astype('str')"
   ]
  },
  {
   "cell_type": "code",
   "execution_count": 6,
   "metadata": {},
   "outputs": [],
   "source": [
    "df['cat2'] = 'cat2_CA-' + df['cat2']"
   ]
  },
  {
   "cell_type": "markdown",
   "metadata": {},
   "source": [
    "#### Replace the *item* column with dummy variables, e.g. 'item_IT-0', 'item_IT-1', 'item_IT-10', 'item_IT-11', 'item_IT-12', ..."
   ]
  },
  {
   "cell_type": "code",
   "execution_count": 7,
   "metadata": {},
   "outputs": [],
   "source": [
    "df['item'] = df['item'].astype('category')\n",
    "\n",
    "df['item'] = df['item'].cat.codes\n",
    "\n",
    "df['item'] = df['item'].astype('str')\n",
    "\n",
    "df['item'] = 'item_IT-' + df['item']"
   ]
  },
  {
   "cell_type": "code",
   "execution_count": 8,
   "metadata": {},
   "outputs": [
    {
     "data": {
      "text/html": [
       "<div>\n",
       "<style scoped>\n",
       "    .dataframe tbody tr th:only-of-type {\n",
       "        vertical-align: middle;\n",
       "    }\n",
       "\n",
       "    .dataframe tbody tr th {\n",
       "        vertical-align: top;\n",
       "    }\n",
       "\n",
       "    .dataframe thead th {\n",
       "        text-align: right;\n",
       "    }\n",
       "</style>\n",
       "<table border=\"1\" class=\"dataframe\">\n",
       "  <thead>\n",
       "    <tr style=\"text-align: right;\">\n",
       "      <th></th>\n",
       "      <th>convention</th>\n",
       "      <th>height</th>\n",
       "      <th>max</th>\n",
       "      <th>cat2</th>\n",
       "      <th>number</th>\n",
       "      <th>usage</th>\n",
       "      <th>region</th>\n",
       "      <th>length</th>\n",
       "      <th>code</th>\n",
       "      <th>power</th>\n",
       "      <th>item</th>\n",
       "      <th>weight</th>\n",
       "      <th>country</th>\n",
       "      <th>target</th>\n",
       "      <th>ratio</th>\n",
       "    </tr>\n",
       "  </thead>\n",
       "  <tbody>\n",
       "    <tr>\n",
       "      <th>0</th>\n",
       "      <td>CO-1A</td>\n",
       "      <td>4284.51</td>\n",
       "      <td>44907</td>\n",
       "      <td>cat2_CA-38</td>\n",
       "      <td>16669</td>\n",
       "      <td>US-7</td>\n",
       "      <td>RE-4</td>\n",
       "      <td>12471.1127</td>\n",
       "      <td>CO-B</td>\n",
       "      <td>27351.36</td>\n",
       "      <td>item_IT-9</td>\n",
       "      <td>13722</td>\n",
       "      <td>CO-1</td>\n",
       "      <td>44098.106769</td>\n",
       "      <td>2.694043</td>\n",
       "    </tr>\n",
       "    <tr>\n",
       "      <th>1</th>\n",
       "      <td>CO-C</td>\n",
       "      <td>806.88</td>\n",
       "      <td>48831</td>\n",
       "      <td>cat2_CA-34</td>\n",
       "      <td>8652</td>\n",
       "      <td>US-20</td>\n",
       "      <td>RE-15</td>\n",
       "      <td>10035.7085</td>\n",
       "      <td>CO-E</td>\n",
       "      <td>42323.89</td>\n",
       "      <td>item_IT-16</td>\n",
       "      <td>33779</td>\n",
       "      <td>CO-0</td>\n",
       "      <td>95567.294044</td>\n",
       "      <td>5.643897</td>\n",
       "    </tr>\n",
       "    <tr>\n",
       "      <th>2</th>\n",
       "      <td>CO-19</td>\n",
       "      <td>2859.80</td>\n",
       "      <td>40760</td>\n",
       "      <td>cat2_CA-8</td>\n",
       "      <td>23103</td>\n",
       "      <td>US-17</td>\n",
       "      <td>RE-1D</td>\n",
       "      <td>14442.6566</td>\n",
       "      <td>CO-5</td>\n",
       "      <td>30660.91</td>\n",
       "      <td>item_IT-6</td>\n",
       "      <td>26633</td>\n",
       "      <td>CO-23</td>\n",
       "      <td>48583.507153</td>\n",
       "      <td>1.764273</td>\n",
       "    </tr>\n",
       "    <tr>\n",
       "      <th>3</th>\n",
       "      <td>CO-2B</td>\n",
       "      <td>5823.87</td>\n",
       "      <td>33597</td>\n",
       "      <td>cat2_CA-33</td>\n",
       "      <td>17680</td>\n",
       "      <td>US-10</td>\n",
       "      <td>RE-1D</td>\n",
       "      <td>15121.4937</td>\n",
       "      <td>CO-B</td>\n",
       "      <td>59456.24</td>\n",
       "      <td>item_IT-23</td>\n",
       "      <td>14537</td>\n",
       "      <td>CO-11</td>\n",
       "      <td>130572.202064</td>\n",
       "      <td>1.900283</td>\n",
       "    </tr>\n",
       "    <tr>\n",
       "      <th>4</th>\n",
       "      <td>CO-5</td>\n",
       "      <td>NaN</td>\n",
       "      <td>29848</td>\n",
       "      <td>cat2_CA-33</td>\n",
       "      <td>24136</td>\n",
       "      <td>US-21</td>\n",
       "      <td>RE-4</td>\n",
       "      <td>18093.9147</td>\n",
       "      <td>CO-4</td>\n",
       "      <td>46998.44</td>\n",
       "      <td>item_IT-20</td>\n",
       "      <td>21135</td>\n",
       "      <td>CO-1E</td>\n",
       "      <td>85768.812850</td>\n",
       "      <td>1.236659</td>\n",
       "    </tr>\n",
       "  </tbody>\n",
       "</table>\n",
       "</div>"
      ],
      "text/plain": [
       "  convention   height    max        cat2  number  usage region      length  \\\n",
       "0      CO-1A  4284.51  44907  cat2_CA-38   16669   US-7   RE-4  12471.1127   \n",
       "1       CO-C   806.88  48831  cat2_CA-34    8652  US-20  RE-15  10035.7085   \n",
       "2      CO-19  2859.80  40760   cat2_CA-8   23103  US-17  RE-1D  14442.6566   \n",
       "3      CO-2B  5823.87  33597  cat2_CA-33   17680  US-10  RE-1D  15121.4937   \n",
       "4       CO-5      NaN  29848  cat2_CA-33   24136  US-21   RE-4  18093.9147   \n",
       "\n",
       "   code     power        item  weight country         target     ratio  \n",
       "0  CO-B  27351.36   item_IT-9   13722    CO-1   44098.106769  2.694043  \n",
       "1  CO-E  42323.89  item_IT-16   33779    CO-0   95567.294044  5.643897  \n",
       "2  CO-5  30660.91   item_IT-6   26633   CO-23   48583.507153  1.764273  \n",
       "3  CO-B  59456.24  item_IT-23   14537   CO-11  130572.202064  1.900283  \n",
       "4  CO-4  46998.44  item_IT-20   21135   CO-1E   85768.812850  1.236659  "
      ]
     },
     "execution_count": 8,
     "metadata": {},
     "output_type": "execute_result"
    }
   ],
   "source": [
    "df.head()"
   ]
  },
  {
   "cell_type": "markdown",
   "metadata": {},
   "source": [
    "#### For field *length* replace missing values with the median of *length*."
   ]
  },
  {
   "cell_type": "code",
   "execution_count": 9,
   "metadata": {},
   "outputs": [
    {
     "data": {
      "text/plain": [
       "False    10646\n",
       "True       163\n",
       "Name: length, dtype: int64"
      ]
     },
     "execution_count": 9,
     "metadata": {},
     "output_type": "execute_result"
    }
   ],
   "source": [
    "df['length'].isna().value_counts()"
   ]
  },
  {
   "cell_type": "code",
   "execution_count": 10,
   "metadata": {},
   "outputs": [],
   "source": [
    "df['length'].fillna(df['length'].median(), inplace=True)"
   ]
  },
  {
   "cell_type": "markdown",
   "metadata": {},
   "source": [
    "#### For field *height* replace missing with median and convert to zscore.\n",
    "\n",
    "\n",
    "It is useful to standardized the values (raw scores) of a normal distribution by converting them into z-scores because:\n",
    "\n",
    "(a) it allows researchers to calculate the probability of a score occurring within a standard normal distribution;\n",
    "\n",
    "(b) and enables us to compare two scores that are from different samples (which may have different means and standard deviations)."
   ]
  },
  {
   "cell_type": "code",
   "execution_count": 11,
   "metadata": {},
   "outputs": [],
   "source": [
    "df['height'].fillna(df['height'].median(), inplace=True)"
   ]
  },
  {
   "cell_type": "code",
   "execution_count": 12,
   "metadata": {},
   "outputs": [
    {
     "data": {
      "text/plain": [
       "False    10809\n",
       "Name: height, dtype: int64"
      ]
     },
     "execution_count": 12,
     "metadata": {},
     "output_type": "execute_result"
    }
   ],
   "source": [
    "df['height'].isna().value_counts()"
   ]
  },
  {
   "cell_type": "code",
   "execution_count": 14,
   "metadata": {},
   "outputs": [],
   "source": [
    "std = df['height'].std()\n",
    "mean = df['height'].mean()"
   ]
  },
  {
   "cell_type": "code",
   "execution_count": 16,
   "metadata": {},
   "outputs": [],
   "source": [
    "df['height'] = (df['height'] - mean) / std"
   ]
  }
 ],
 "metadata": {
  "anaconda-cloud": {},
  "kernelspec": {
   "display_name": "Python 3.7 (tensorflow)",
   "language": "python",
   "name": "tensorflow"
  },
  "language_info": {
   "codemirror_mode": {
    "name": "ipython",
    "version": 3
   },
   "file_extension": ".py",
   "mimetype": "text/x-python",
   "name": "python",
   "nbconvert_exporter": "python",
   "pygments_lexer": "ipython3",
   "version": "3.7.7"
  }
 },
 "nbformat": 4,
 "nbformat_minor": 4
}
